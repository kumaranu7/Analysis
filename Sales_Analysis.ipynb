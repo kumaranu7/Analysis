{
  "nbformat": 4,
  "nbformat_minor": 0,
  "metadata": {
    "colab": {
      "name": "Sales_Analysis",
      "provenance": [],
      "collapsed_sections": [],
      "include_colab_link": true
    },
    "kernelspec": {
      "name": "python3",
      "display_name": "Python 3"
    }
  },
  "cells": [
    {
      "cell_type": "markdown",
      "metadata": {
        "id": "view-in-github",
        "colab_type": "text"
      },
      "source": [
        "<a href=\"https://colab.research.google.com/github/kumaranu7/Analysis/blob/master/Sales_Analysis.ipynb\" target=\"_parent\"><img src=\"https://colab.research.google.com/assets/colab-badge.svg\" alt=\"Open In Colab\"/></a>"
      ]
    },
    {
      "cell_type": "code",
      "metadata": {
        "id": "jJI2PPpiytWT",
        "colab_type": "code",
        "outputId": "b034557a-74d1-423b-99c2-f1d160274863",
        "colab": {
          "base_uri": "https://localhost:8080/",
          "height": 34
        }
      },
      "source": [
        "from google.colab import drive\n",
        "drive.mount('/content/drive')"
      ],
      "execution_count": 7,
      "outputs": [
        {
          "output_type": "stream",
          "text": [
            "Drive already mounted at /content/drive; to attempt to forcibly remount, call drive.mount(\"/content/drive\", force_remount=True).\n"
          ],
          "name": "stdout"
        }
      ]
    },
    {
      "cell_type": "code",
      "metadata": {
        "id": "JwnMeq-AHbYE",
        "colab_type": "code",
        "colab": {}
      },
      "source": [
        "import pandas as pd\n",
        "import os"
      ],
      "execution_count": 0,
      "outputs": []
    },
    {
      "cell_type": "code",
      "metadata": {
        "id": "3dapx13F1wDq",
        "colab_type": "code",
        "colab": {}
      },
      "source": [
        "files = [file for file in os.listdir('/content/drive/My Drive/Colab Notebooks/Projects/Sales Analysis/SalesAnalysis/Sales_Data')]\n",
        "all_months_data = pd.DataFrame()\n",
        "for file in files:\n",
        "  df = pd.read_csv('/content/drive/My Drive/Colab Notebooks/Projects/Sales Analysis/SalesAnalysis/Sales_Data/'+file)\n",
        "  all_months_data = pd.concat([all_months_data, df])\n",
        "\n",
        "all_months_data.to_csv('all_datas.csv', index = False)"
      ],
      "execution_count": 0,
      "outputs": []
    },
    {
      "cell_type": "code",
      "metadata": {
        "id": "nQ-QOqctB3n_",
        "colab_type": "code",
        "colab": {
          "base_uri": "https://localhost:8080/",
          "height": 204
        },
        "outputId": "a020854c-5345-40b7-d902-f156f9024578"
      },
      "source": [
        "all_data = pd.read_csv('all_datas.csv')\n",
        "all_data.head()"
      ],
      "execution_count": 20,
      "outputs": [
        {
          "output_type": "execute_result",
          "data": {
            "text/html": [
              "<div>\n",
              "<style scoped>\n",
              "    .dataframe tbody tr th:only-of-type {\n",
              "        vertical-align: middle;\n",
              "    }\n",
              "\n",
              "    .dataframe tbody tr th {\n",
              "        vertical-align: top;\n",
              "    }\n",
              "\n",
              "    .dataframe thead th {\n",
              "        text-align: right;\n",
              "    }\n",
              "</style>\n",
              "<table border=\"1\" class=\"dataframe\">\n",
              "  <thead>\n",
              "    <tr style=\"text-align: right;\">\n",
              "      <th></th>\n",
              "      <th>Order ID</th>\n",
              "      <th>Product</th>\n",
              "      <th>Quantity Ordered</th>\n",
              "      <th>Price Each</th>\n",
              "      <th>Order Date</th>\n",
              "      <th>Purchase Address</th>\n",
              "    </tr>\n",
              "  </thead>\n",
              "  <tbody>\n",
              "    <tr>\n",
              "      <th>0</th>\n",
              "      <td>236670</td>\n",
              "      <td>Wired Headphones</td>\n",
              "      <td>2</td>\n",
              "      <td>11.99</td>\n",
              "      <td>08/31/19 22:21</td>\n",
              "      <td>359 Spruce St, Seattle, WA 98101</td>\n",
              "    </tr>\n",
              "    <tr>\n",
              "      <th>1</th>\n",
              "      <td>236671</td>\n",
              "      <td>Bose SoundSport Headphones</td>\n",
              "      <td>1</td>\n",
              "      <td>99.99</td>\n",
              "      <td>08/15/19 15:11</td>\n",
              "      <td>492 Ridge St, Dallas, TX 75001</td>\n",
              "    </tr>\n",
              "    <tr>\n",
              "      <th>2</th>\n",
              "      <td>236672</td>\n",
              "      <td>iPhone</td>\n",
              "      <td>1</td>\n",
              "      <td>700.0</td>\n",
              "      <td>08/06/19 14:40</td>\n",
              "      <td>149 7th St, Portland, OR 97035</td>\n",
              "    </tr>\n",
              "    <tr>\n",
              "      <th>3</th>\n",
              "      <td>236673</td>\n",
              "      <td>AA Batteries (4-pack)</td>\n",
              "      <td>2</td>\n",
              "      <td>3.84</td>\n",
              "      <td>08/29/19 20:59</td>\n",
              "      <td>631 2nd St, Los Angeles, CA 90001</td>\n",
              "    </tr>\n",
              "    <tr>\n",
              "      <th>4</th>\n",
              "      <td>236674</td>\n",
              "      <td>AA Batteries (4-pack)</td>\n",
              "      <td>2</td>\n",
              "      <td>3.84</td>\n",
              "      <td>08/15/19 19:53</td>\n",
              "      <td>736 14th St, New York City, NY 10001</td>\n",
              "    </tr>\n",
              "  </tbody>\n",
              "</table>\n",
              "</div>"
            ],
            "text/plain": [
              "  Order ID  ...                      Purchase Address\n",
              "0   236670  ...      359 Spruce St, Seattle, WA 98101\n",
              "1   236671  ...        492 Ridge St, Dallas, TX 75001\n",
              "2   236672  ...        149 7th St, Portland, OR 97035\n",
              "3   236673  ...     631 2nd St, Los Angeles, CA 90001\n",
              "4   236674  ...  736 14th St, New York City, NY 10001\n",
              "\n",
              "[5 rows x 6 columns]"
            ]
          },
          "metadata": {
            "tags": []
          },
          "execution_count": 20
        }
      ]
    },
    {
      "cell_type": "code",
      "metadata": {
        "id": "ttf4fx0uCq8g",
        "colab_type": "code",
        "colab": {}
      },
      "source": [
        "all_data['Month'] = all_data['Order Date'].str[0:2]"
      ],
      "execution_count": 0,
      "outputs": []
    },
    {
      "cell_type": "code",
      "metadata": {
        "id": "0WymWKiRE4cY",
        "colab_type": "code",
        "colab": {
          "base_uri": "https://localhost:8080/",
          "height": 204
        },
        "outputId": "3b1c87ee-e4aa-460c-8510-0edde1a20db4"
      },
      "source": [
        "all_data['Month'] = all_data['Month'].astype('int32')\n",
        "all_data.head()\n",
        "\n",
        "#This retruns NaN value not convertible, so now we use data cleaning."
      ],
      "execution_count": 31,
      "outputs": [
        {
          "output_type": "execute_result",
          "data": {
            "text/html": [
              "<div>\n",
              "<style scoped>\n",
              "    .dataframe tbody tr th:only-of-type {\n",
              "        vertical-align: middle;\n",
              "    }\n",
              "\n",
              "    .dataframe tbody tr th {\n",
              "        vertical-align: top;\n",
              "    }\n",
              "\n",
              "    .dataframe thead th {\n",
              "        text-align: right;\n",
              "    }\n",
              "</style>\n",
              "<table border=\"1\" class=\"dataframe\">\n",
              "  <thead>\n",
              "    <tr style=\"text-align: right;\">\n",
              "      <th></th>\n",
              "      <th>Order ID</th>\n",
              "      <th>Product</th>\n",
              "      <th>Quantity Ordered</th>\n",
              "      <th>Price Each</th>\n",
              "      <th>Order Date</th>\n",
              "      <th>Purchase Address</th>\n",
              "      <th>Month</th>\n",
              "    </tr>\n",
              "  </thead>\n",
              "  <tbody>\n",
              "    <tr>\n",
              "      <th>0</th>\n",
              "      <td>236670</td>\n",
              "      <td>Wired Headphones</td>\n",
              "      <td>2</td>\n",
              "      <td>11.99</td>\n",
              "      <td>08/31/19 22:21</td>\n",
              "      <td>359 Spruce St, Seattle, WA 98101</td>\n",
              "      <td>8</td>\n",
              "    </tr>\n",
              "    <tr>\n",
              "      <th>1</th>\n",
              "      <td>236671</td>\n",
              "      <td>Bose SoundSport Headphones</td>\n",
              "      <td>1</td>\n",
              "      <td>99.99</td>\n",
              "      <td>08/15/19 15:11</td>\n",
              "      <td>492 Ridge St, Dallas, TX 75001</td>\n",
              "      <td>8</td>\n",
              "    </tr>\n",
              "    <tr>\n",
              "      <th>2</th>\n",
              "      <td>236672</td>\n",
              "      <td>iPhone</td>\n",
              "      <td>1</td>\n",
              "      <td>700.00</td>\n",
              "      <td>08/06/19 14:40</td>\n",
              "      <td>149 7th St, Portland, OR 97035</td>\n",
              "      <td>8</td>\n",
              "    </tr>\n",
              "    <tr>\n",
              "      <th>3</th>\n",
              "      <td>236673</td>\n",
              "      <td>AA Batteries (4-pack)</td>\n",
              "      <td>2</td>\n",
              "      <td>3.84</td>\n",
              "      <td>08/29/19 20:59</td>\n",
              "      <td>631 2nd St, Los Angeles, CA 90001</td>\n",
              "      <td>8</td>\n",
              "    </tr>\n",
              "    <tr>\n",
              "      <th>4</th>\n",
              "      <td>236674</td>\n",
              "      <td>AA Batteries (4-pack)</td>\n",
              "      <td>2</td>\n",
              "      <td>3.84</td>\n",
              "      <td>08/15/19 19:53</td>\n",
              "      <td>736 14th St, New York City, NY 10001</td>\n",
              "      <td>8</td>\n",
              "    </tr>\n",
              "  </tbody>\n",
              "</table>\n",
              "</div>"
            ],
            "text/plain": [
              "  Order ID  ... Month\n",
              "0   236670  ...     8\n",
              "1   236671  ...     8\n",
              "2   236672  ...     8\n",
              "3   236673  ...     8\n",
              "4   236674  ...     8\n",
              "\n",
              "[5 rows x 7 columns]"
            ]
          },
          "metadata": {
            "tags": []
          },
          "execution_count": 31
        }
      ]
    },
    {
      "cell_type": "code",
      "metadata": {
        "id": "CRS3Jg1eE4av",
        "colab_type": "code",
        "colab": {}
      },
      "source": [
        "nan_df = all_data[all_data.isna().any(axis = 1)]\n",
        "nan_df.head()\n",
        "\n",
        "all_data = all_data.dropna(how = 'all')\n",
        "\n",
        "all_data = all_data[all_data['Month'].str[0:2] != 'Or']"
      ],
      "execution_count": 0,
      "outputs": []
    },
    {
      "cell_type": "code",
      "metadata": {
        "id": "Sdll7uQqEyoa",
        "colab_type": "code",
        "colab": {
          "base_uri": "https://localhost:8080/",
          "height": 204
        },
        "outputId": "32c787b6-bd17-4f02-9a49-d133078766d0"
      },
      "source": [
        "all_data.head()"
      ],
      "execution_count": 24,
      "outputs": [
        {
          "output_type": "execute_result",
          "data": {
            "text/html": [
              "<div>\n",
              "<style scoped>\n",
              "    .dataframe tbody tr th:only-of-type {\n",
              "        vertical-align: middle;\n",
              "    }\n",
              "\n",
              "    .dataframe tbody tr th {\n",
              "        vertical-align: top;\n",
              "    }\n",
              "\n",
              "    .dataframe thead th {\n",
              "        text-align: right;\n",
              "    }\n",
              "</style>\n",
              "<table border=\"1\" class=\"dataframe\">\n",
              "  <thead>\n",
              "    <tr style=\"text-align: right;\">\n",
              "      <th></th>\n",
              "      <th>Order ID</th>\n",
              "      <th>Product</th>\n",
              "      <th>Quantity Ordered</th>\n",
              "      <th>Price Each</th>\n",
              "      <th>Order Date</th>\n",
              "      <th>Purchase Address</th>\n",
              "      <th>Month</th>\n",
              "    </tr>\n",
              "  </thead>\n",
              "  <tbody>\n",
              "    <tr>\n",
              "      <th>0</th>\n",
              "      <td>236670</td>\n",
              "      <td>Wired Headphones</td>\n",
              "      <td>2</td>\n",
              "      <td>11.99</td>\n",
              "      <td>08/31/19 22:21</td>\n",
              "      <td>359 Spruce St, Seattle, WA 98101</td>\n",
              "      <td>08</td>\n",
              "    </tr>\n",
              "    <tr>\n",
              "      <th>1</th>\n",
              "      <td>236671</td>\n",
              "      <td>Bose SoundSport Headphones</td>\n",
              "      <td>1</td>\n",
              "      <td>99.99</td>\n",
              "      <td>08/15/19 15:11</td>\n",
              "      <td>492 Ridge St, Dallas, TX 75001</td>\n",
              "      <td>08</td>\n",
              "    </tr>\n",
              "    <tr>\n",
              "      <th>2</th>\n",
              "      <td>236672</td>\n",
              "      <td>iPhone</td>\n",
              "      <td>1</td>\n",
              "      <td>700.0</td>\n",
              "      <td>08/06/19 14:40</td>\n",
              "      <td>149 7th St, Portland, OR 97035</td>\n",
              "      <td>08</td>\n",
              "    </tr>\n",
              "    <tr>\n",
              "      <th>3</th>\n",
              "      <td>236673</td>\n",
              "      <td>AA Batteries (4-pack)</td>\n",
              "      <td>2</td>\n",
              "      <td>3.84</td>\n",
              "      <td>08/29/19 20:59</td>\n",
              "      <td>631 2nd St, Los Angeles, CA 90001</td>\n",
              "      <td>08</td>\n",
              "    </tr>\n",
              "    <tr>\n",
              "      <th>4</th>\n",
              "      <td>236674</td>\n",
              "      <td>AA Batteries (4-pack)</td>\n",
              "      <td>2</td>\n",
              "      <td>3.84</td>\n",
              "      <td>08/15/19 19:53</td>\n",
              "      <td>736 14th St, New York City, NY 10001</td>\n",
              "      <td>08</td>\n",
              "    </tr>\n",
              "  </tbody>\n",
              "</table>\n",
              "</div>"
            ],
            "text/plain": [
              "  Order ID  ... Month\n",
              "0   236670  ...    08\n",
              "1   236671  ...    08\n",
              "2   236672  ...    08\n",
              "3   236673  ...    08\n",
              "4   236674  ...    08\n",
              "\n",
              "[5 rows x 7 columns]"
            ]
          },
          "metadata": {
            "tags": []
          },
          "execution_count": 24
        }
      ]
    },
    {
      "cell_type": "code",
      "metadata": {
        "id": "-iT8JjlPE0On",
        "colab_type": "code",
        "colab": {}
      },
      "source": [
        "#after cleaning only the requirement based column characters."
      ],
      "execution_count": 0,
      "outputs": []
    },
    {
      "cell_type": "code",
      "metadata": {
        "id": "P71-7vzkJ0tl",
        "colab_type": "code",
        "colab": {}
      },
      "source": [
        "all_data['Sales'] = all_data['Quantity Ordered'] * all_data['Price Each']"
      ],
      "execution_count": 0,
      "outputs": []
    },
    {
      "cell_type": "code",
      "metadata": {
        "id": "EGXz4SrgKa0V",
        "colab_type": "code",
        "colab": {}
      },
      "source": [
        "all_data['Quantity Ordered'] = pd.to_numeric(all_data['Quantity Ordered'])\n",
        "all_data['Price Each'] = pd.to_numeric(all_data['Price Each'])"
      ],
      "execution_count": 0,
      "outputs": []
    },
    {
      "cell_type": "code",
      "metadata": {
        "id": "VkSqX5HiMgJc",
        "colab_type": "code",
        "colab": {
          "base_uri": "https://localhost:8080/",
          "height": 204
        },
        "outputId": "4fbaef4e-9738-47d9-f748-b669b9771561"
      },
      "source": [
        "all_data.head()"
      ],
      "execution_count": 34,
      "outputs": [
        {
          "output_type": "execute_result",
          "data": {
            "text/html": [
              "<div>\n",
              "<style scoped>\n",
              "    .dataframe tbody tr th:only-of-type {\n",
              "        vertical-align: middle;\n",
              "    }\n",
              "\n",
              "    .dataframe tbody tr th {\n",
              "        vertical-align: top;\n",
              "    }\n",
              "\n",
              "    .dataframe thead th {\n",
              "        text-align: right;\n",
              "    }\n",
              "</style>\n",
              "<table border=\"1\" class=\"dataframe\">\n",
              "  <thead>\n",
              "    <tr style=\"text-align: right;\">\n",
              "      <th></th>\n",
              "      <th>Order ID</th>\n",
              "      <th>Product</th>\n",
              "      <th>Quantity Ordered</th>\n",
              "      <th>Price Each</th>\n",
              "      <th>Order Date</th>\n",
              "      <th>Purchase Address</th>\n",
              "      <th>Month</th>\n",
              "      <th>Sales</th>\n",
              "    </tr>\n",
              "  </thead>\n",
              "  <tbody>\n",
              "    <tr>\n",
              "      <th>0</th>\n",
              "      <td>236670</td>\n",
              "      <td>Wired Headphones</td>\n",
              "      <td>2</td>\n",
              "      <td>11.99</td>\n",
              "      <td>08/31/19 22:21</td>\n",
              "      <td>359 Spruce St, Seattle, WA 98101</td>\n",
              "      <td>8</td>\n",
              "      <td>23.98</td>\n",
              "    </tr>\n",
              "    <tr>\n",
              "      <th>1</th>\n",
              "      <td>236671</td>\n",
              "      <td>Bose SoundSport Headphones</td>\n",
              "      <td>1</td>\n",
              "      <td>99.99</td>\n",
              "      <td>08/15/19 15:11</td>\n",
              "      <td>492 Ridge St, Dallas, TX 75001</td>\n",
              "      <td>8</td>\n",
              "      <td>99.99</td>\n",
              "    </tr>\n",
              "    <tr>\n",
              "      <th>2</th>\n",
              "      <td>236672</td>\n",
              "      <td>iPhone</td>\n",
              "      <td>1</td>\n",
              "      <td>700.00</td>\n",
              "      <td>08/06/19 14:40</td>\n",
              "      <td>149 7th St, Portland, OR 97035</td>\n",
              "      <td>8</td>\n",
              "      <td>700.00</td>\n",
              "    </tr>\n",
              "    <tr>\n",
              "      <th>3</th>\n",
              "      <td>236673</td>\n",
              "      <td>AA Batteries (4-pack)</td>\n",
              "      <td>2</td>\n",
              "      <td>3.84</td>\n",
              "      <td>08/29/19 20:59</td>\n",
              "      <td>631 2nd St, Los Angeles, CA 90001</td>\n",
              "      <td>8</td>\n",
              "      <td>7.68</td>\n",
              "    </tr>\n",
              "    <tr>\n",
              "      <th>4</th>\n",
              "      <td>236674</td>\n",
              "      <td>AA Batteries (4-pack)</td>\n",
              "      <td>2</td>\n",
              "      <td>3.84</td>\n",
              "      <td>08/15/19 19:53</td>\n",
              "      <td>736 14th St, New York City, NY 10001</td>\n",
              "      <td>8</td>\n",
              "      <td>7.68</td>\n",
              "    </tr>\n",
              "  </tbody>\n",
              "</table>\n",
              "</div>"
            ],
            "text/plain": [
              "  Order ID                     Product  ...  Month   Sales\n",
              "0   236670            Wired Headphones  ...      8   23.98\n",
              "1   236671  Bose SoundSport Headphones  ...      8   99.99\n",
              "2   236672                      iPhone  ...      8  700.00\n",
              "3   236673       AA Batteries (4-pack)  ...      8    7.68\n",
              "4   236674       AA Batteries (4-pack)  ...      8    7.68\n",
              "\n",
              "[5 rows x 8 columns]"
            ]
          },
          "metadata": {
            "tags": []
          },
          "execution_count": 34
        }
      ]
    },
    {
      "cell_type": "code",
      "metadata": {
        "id": "-w-f8F7uNFok",
        "colab_type": "code",
        "colab": {}
      },
      "source": [
        "result = all_data.groupby('Month').sum()"
      ],
      "execution_count": 0,
      "outputs": []
    },
    {
      "cell_type": "code",
      "metadata": {
        "id": "G_PKzUoGNVYZ",
        "colab_type": "code",
        "colab": {
          "base_uri": "https://localhost:8080/",
          "height": 290
        },
        "outputId": "4c6db7fe-4eea-4491-e84d-06e37173e056"
      },
      "source": [
        "import matplotlib.pyplot as plt\n",
        "months = range(1,13)\n",
        "plt.bar(months, result['Sales'])\n",
        "plt.xticks(months)\n",
        "plt.xlabel('Month number')\n",
        "plt.ylabel('Sales in USD')\n",
        "plt.show()"
      ],
      "execution_count": 36,
      "outputs": [
        {
          "output_type": "display_data",
          "data": {
            "image/png": "[encoded data removed]",
            "text/plain": [
              "<Figure size 432x288 with 1 Axes>"
            ]
          },
          "metadata": {
            "tags": []
          }
        }
      ]
    },
    {
      "cell_type": "code",
      "metadata": {
        "id": "p9YA_rAIOFLQ",
        "colab_type": "code",
        "colab": {}
      },
      "source": [
        "def get_city(x):\n",
        "  return x.split(',')[1]\n",
        "\n",
        "def get_state(x):\n",
        "  return x.split(',')[2].split(' ')[1]\n",
        "\n",
        "all_data['City'] = all_data['Purchase Address'].apply(lambda x:get_city(x)+' '+'('+ get_state(x) + ')')\n",
        "\n",
        "#or \n",
        "#all_data['City'] = all_data['Purchase Address'].apply(lambda x: f\"{get_city(x)} ({get_state(x)})\") - Usage of f-string\n",
        "\n"
      ],
      "execution_count": 0,
      "outputs": []
    },
    {
      "cell_type": "code",
      "metadata": {
        "id": "tYqYe7IVTLP6",
        "colab_type": "code",
        "colab": {}
      },
      "source": [
        "res = all_data.groupby('City').sum()"
      ],
      "execution_count": 0,
      "outputs": []
    },
    {
      "cell_type": "code",
      "metadata": {
        "id": "fJ3vxpE7T5tw",
        "colab_type": "code",
        "colab": {
          "base_uri": "https://localhost:8080/",
          "height": 390
        },
        "outputId": "7da0ee7d-3a11-42d9-c554-5eaeae2f04dc"
      },
      "source": [
        "res"
      ],
      "execution_count": 39,
      "outputs": [
        {
          "output_type": "execute_result",
          "data": {
            "text/html": [
              "<div>\n",
              "<style scoped>\n",
              "    .dataframe tbody tr th:only-of-type {\n",
              "        vertical-align: middle;\n",
              "    }\n",
              "\n",
              "    .dataframe tbody tr th {\n",
              "        vertical-align: top;\n",
              "    }\n",
              "\n",
              "    .dataframe thead th {\n",
              "        text-align: right;\n",
              "    }\n",
              "</style>\n",
              "<table border=\"1\" class=\"dataframe\">\n",
              "  <thead>\n",
              "    <tr style=\"text-align: right;\">\n",
              "      <th></th>\n",
              "      <th>Quantity Ordered</th>\n",
              "      <th>Price Each</th>\n",
              "      <th>Month</th>\n",
              "      <th>Sales</th>\n",
              "    </tr>\n",
              "    <tr>\n",
              "      <th>City</th>\n",
              "      <th></th>\n",
              "      <th></th>\n",
              "      <th></th>\n",
              "      <th></th>\n",
              "    </tr>\n",
              "  </thead>\n",
              "  <tbody>\n",
              "    <tr>\n",
              "      <th>Atlanta (GA)</th>\n",
              "      <td>16602</td>\n",
              "      <td>2.779908e+06</td>\n",
              "      <td>104794</td>\n",
              "      <td>2.795499e+06</td>\n",
              "    </tr>\n",
              "    <tr>\n",
              "      <th>Austin (TX)</th>\n",
              "      <td>11153</td>\n",
              "      <td>1.809874e+06</td>\n",
              "      <td>69829</td>\n",
              "      <td>1.819582e+06</td>\n",
              "    </tr>\n",
              "    <tr>\n",
              "      <th>Boston (MA)</th>\n",
              "      <td>22528</td>\n",
              "      <td>3.637410e+06</td>\n",
              "      <td>141112</td>\n",
              "      <td>3.661642e+06</td>\n",
              "    </tr>\n",
              "    <tr>\n",
              "      <th>Dallas (TX)</th>\n",
              "      <td>16730</td>\n",
              "      <td>2.752628e+06</td>\n",
              "      <td>104620</td>\n",
              "      <td>2.767975e+06</td>\n",
              "    </tr>\n",
              "    <tr>\n",
              "      <th>Los Angeles (CA)</th>\n",
              "      <td>33289</td>\n",
              "      <td>5.421435e+06</td>\n",
              "      <td>208325</td>\n",
              "      <td>5.452571e+06</td>\n",
              "    </tr>\n",
              "    <tr>\n",
              "      <th>New York City (NY)</th>\n",
              "      <td>27932</td>\n",
              "      <td>4.635371e+06</td>\n",
              "      <td>175741</td>\n",
              "      <td>4.664317e+06</td>\n",
              "    </tr>\n",
              "    <tr>\n",
              "      <th>Portland (ME)</th>\n",
              "      <td>2750</td>\n",
              "      <td>4.471893e+05</td>\n",
              "      <td>17144</td>\n",
              "      <td>4.497583e+05</td>\n",
              "    </tr>\n",
              "    <tr>\n",
              "      <th>Portland (OR)</th>\n",
              "      <td>11303</td>\n",
              "      <td>1.860558e+06</td>\n",
              "      <td>70621</td>\n",
              "      <td>1.870732e+06</td>\n",
              "    </tr>\n",
              "    <tr>\n",
              "      <th>San Francisco (CA)</th>\n",
              "      <td>50239</td>\n",
              "      <td>8.211462e+06</td>\n",
              "      <td>315520</td>\n",
              "      <td>8.262204e+06</td>\n",
              "    </tr>\n",
              "    <tr>\n",
              "      <th>Seattle (WA)</th>\n",
              "      <td>16553</td>\n",
              "      <td>2.733296e+06</td>\n",
              "      <td>104941</td>\n",
              "      <td>2.747755e+06</td>\n",
              "    </tr>\n",
              "  </tbody>\n",
              "</table>\n",
              "</div>"
            ],
            "text/plain": [
              "                     Quantity Ordered    Price Each   Month         Sales\n",
              "City                                                                     \n",
              " Atlanta (GA)                   16602  2.779908e+06  104794  2.795499e+06\n",
              " Austin (TX)                    11153  1.809874e+06   69829  1.819582e+06\n",
              " Boston (MA)                    22528  3.637410e+06  141112  3.661642e+06\n",
              " Dallas (TX)                    16730  2.752628e+06  104620  2.767975e+06\n",
              " Los Angeles (CA)               33289  5.421435e+06  208325  5.452571e+06\n",
              " New York City (NY)             27932  4.635371e+06  175741  4.664317e+06\n",
              " Portland (ME)                   2750  4.471893e+05   17144  4.497583e+05\n",
              " Portland (OR)                  11303  1.860558e+06   70621  1.870732e+06\n",
              " San Francisco (CA)             50239  8.211462e+06  315520  8.262204e+06\n",
              " Seattle (WA)                   16553  2.733296e+06  104941  2.747755e+06"
            ]
          },
          "metadata": {
            "tags": []
          },
          "execution_count": 39
        }
      ]
    },
    {
      "cell_type": "code",
      "metadata": {
        "id": "W0zM-YvvdQKK",
        "colab_type": "code",
        "colab": {
          "base_uri": "https://localhost:8080/",
          "height": 358
        },
        "outputId": "549ee0f9-d5c1-44b0-d526-0e46fac2da20"
      },
      "source": [
        "cities = [city for city, df in all_data.groupby('City')]\n",
        "plt.bar(cities, res['Sales'])\n",
        "plt.xticks(cities, rotation = 'vertical', size = 8)\n",
        "plt.xlabel('City')\n",
        "plt.ylabel('Sales in USD')\n",
        "plt.show()\n"
      ],
      "execution_count": 40,
      "outputs": [
        {
          "output_type": "display_data",
          "data": {
            "image/png": "[encoded data removed]",
            "text/plain": [
              "<Figure size 432x288 with 1 Axes>"
            ]
          },
          "metadata": {
            "tags": []
          }
        }
      ]
    },
    {
      "cell_type": "code",
      "metadata": {
        "id": "1QmJyrmIebq9",
        "colab_type": "code",
        "colab": {}
      },
      "source": [
        "all_data['Order Date'] = pd.to_datetime(all_data['Order Date']) "
      ],
      "execution_count": 0,
      "outputs": []
    },
    {
      "cell_type": "code",
      "metadata": {
        "id": "HGvdfUXXmryQ",
        "colab_type": "code",
        "colab": {
          "base_uri": "https://localhost:8080/",
          "height": 111
        },
        "outputId": "8510f43b-8bf3-44ff-f4dc-b055d61d05fe"
      },
      "source": [
        "all_data.head(2)"
      ],
      "execution_count": 42,
      "outputs": [
        {
          "output_type": "execute_result",
          "data": {
            "text/html": [
              "<div>\n",
              "<style scoped>\n",
              "    .dataframe tbody tr th:only-of-type {\n",
              "        vertical-align: middle;\n",
              "    }\n",
              "\n",
              "    .dataframe tbody tr th {\n",
              "        vertical-align: top;\n",
              "    }\n",
              "\n",
              "    .dataframe thead th {\n",
              "        text-align: right;\n",
              "    }\n",
              "</style>\n",
              "<table border=\"1\" class=\"dataframe\">\n",
              "  <thead>\n",
              "    <tr style=\"text-align: right;\">\n",
              "      <th></th>\n",
              "      <th>Order ID</th>\n",
              "      <th>Product</th>\n",
              "      <th>Quantity Ordered</th>\n",
              "      <th>Price Each</th>\n",
              "      <th>Order Date</th>\n",
              "      <th>Purchase Address</th>\n",
              "      <th>Month</th>\n",
              "      <th>Sales</th>\n",
              "      <th>City</th>\n",
              "    </tr>\n",
              "  </thead>\n",
              "  <tbody>\n",
              "    <tr>\n",
              "      <th>0</th>\n",
              "      <td>236670</td>\n",
              "      <td>Wired Headphones</td>\n",
              "      <td>2</td>\n",
              "      <td>11.99</td>\n",
              "      <td>2019-08-31 22:21:00</td>\n",
              "      <td>359 Spruce St, Seattle, WA 98101</td>\n",
              "      <td>8</td>\n",
              "      <td>23.98</td>\n",
              "      <td>Seattle (WA)</td>\n",
              "    </tr>\n",
              "    <tr>\n",
              "      <th>1</th>\n",
              "      <td>236671</td>\n",
              "      <td>Bose SoundSport Headphones</td>\n",
              "      <td>1</td>\n",
              "      <td>99.99</td>\n",
              "      <td>2019-08-15 15:11:00</td>\n",
              "      <td>492 Ridge St, Dallas, TX 75001</td>\n",
              "      <td>8</td>\n",
              "      <td>99.99</td>\n",
              "      <td>Dallas (TX)</td>\n",
              "    </tr>\n",
              "  </tbody>\n",
              "</table>\n",
              "</div>"
            ],
            "text/plain": [
              "  Order ID                     Product  ...  Sales           City\n",
              "0   236670            Wired Headphones  ...  23.98   Seattle (WA)\n",
              "1   236671  Bose SoundSport Headphones  ...  99.99    Dallas (TX)\n",
              "\n",
              "[2 rows x 9 columns]"
            ]
          },
          "metadata": {
            "tags": []
          },
          "execution_count": 42
        }
      ]
    },
    {
      "cell_type": "code",
      "metadata": {
        "id": "sit-5FqUmt8y",
        "colab_type": "code",
        "colab": {}
      },
      "source": [
        "all_data['Hour'] = all_data['Order Date'].dt.hour\n",
        "all_data['Minute'] = all_data['Order Date'].dt.minute"
      ],
      "execution_count": 0,
      "outputs": []
    },
    {
      "cell_type": "code",
      "metadata": {
        "id": "RdOcq4BlnCG8",
        "colab_type": "code",
        "colab": {
          "base_uri": "https://localhost:8080/",
          "height": 111
        },
        "outputId": "905fc7aa-6cea-487b-c585-d2bb93af4f48"
      },
      "source": [
        "all_data.head(2)"
      ],
      "execution_count": 44,
      "outputs": [
        {
          "output_type": "execute_result",
          "data": {
            "text/html": [
              "<div>\n",
              "<style scoped>\n",
              "    .dataframe tbody tr th:only-of-type {\n",
              "        vertical-align: middle;\n",
              "    }\n",
              "\n",
              "    .dataframe tbody tr th {\n",
              "        vertical-align: top;\n",
              "    }\n",
              "\n",
              "    .dataframe thead th {\n",
              "        text-align: right;\n",
              "    }\n",
              "</style>\n",
              "<table border=\"1\" class=\"dataframe\">\n",
              "  <thead>\n",
              "    <tr style=\"text-align: right;\">\n",
              "      <th></th>\n",
              "      <th>Order ID</th>\n",
              "      <th>Product</th>\n",
              "      <th>Quantity Ordered</th>\n",
              "      <th>Price Each</th>\n",
              "      <th>Order Date</th>\n",
              "      <th>Purchase Address</th>\n",
              "      <th>Month</th>\n",
              "      <th>Sales</th>\n",
              "      <th>City</th>\n",
              "      <th>Hour</th>\n",
              "      <th>Minute</th>\n",
              "    </tr>\n",
              "  </thead>\n",
              "  <tbody>\n",
              "    <tr>\n",
              "      <th>0</th>\n",
              "      <td>236670</td>\n",
              "      <td>Wired Headphones</td>\n",
              "      <td>2</td>\n",
              "      <td>11.99</td>\n",
              "      <td>2019-08-31 22:21:00</td>\n",
              "      <td>359 Spruce St, Seattle, WA 98101</td>\n",
              "      <td>8</td>\n",
              "      <td>23.98</td>\n",
              "      <td>Seattle (WA)</td>\n",
              "      <td>22</td>\n",
              "      <td>21</td>\n",
              "    </tr>\n",
              "    <tr>\n",
              "      <th>1</th>\n",
              "      <td>236671</td>\n",
              "      <td>Bose SoundSport Headphones</td>\n",
              "      <td>1</td>\n",
              "      <td>99.99</td>\n",
              "      <td>2019-08-15 15:11:00</td>\n",
              "      <td>492 Ridge St, Dallas, TX 75001</td>\n",
              "      <td>8</td>\n",
              "      <td>99.99</td>\n",
              "      <td>Dallas (TX)</td>\n",
              "      <td>15</td>\n",
              "      <td>11</td>\n",
              "    </tr>\n",
              "  </tbody>\n",
              "</table>\n",
              "</div>"
            ],
            "text/plain": [
              "  Order ID                     Product  ...  Hour  Minute\n",
              "0   236670            Wired Headphones  ...    22      21\n",
              "1   236671  Bose SoundSport Headphones  ...    15      11\n",
              "\n",
              "[2 rows x 11 columns]"
            ]
          },
          "metadata": {
            "tags": []
          },
          "execution_count": 44
        }
      ]
    },
    {
      "cell_type": "code",
      "metadata": {
        "id": "mjK0e75-nEUB",
        "colab_type": "code",
        "colab": {}
      },
      "source": [
        "#What time to display the add.\n",
        "hr = list(set(all_data['Hour']))"
      ],
      "execution_count": 0,
      "outputs": []
    },
    {
      "cell_type": "code",
      "metadata": {
        "id": "U-3uRTv1oMyF",
        "colab_type": "code",
        "colab": {
          "base_uri": "https://localhost:8080/",
          "height": 479
        },
        "outputId": "b2bae20f-128e-4cb8-d34c-5ed5cb74dcbc"
      },
      "source": [
        "# hours = [hour for hour, df in all_data.groupby('Hour')]\n",
        "plt.plot(hr, all_data.groupby(['Hour']).count())\n",
        "plt.xticks(hours)\n",
        "plt.xlabel('Hour')\n",
        "plt.ylabel('Number of Orders Made')\n",
        "plt.grid()\n",
        "plt.show()\n"
      ],
      "execution_count": 46,
      "outputs": [
        {
          "output_type": "error",
          "ename": "NameError",
          "evalue": "ignored",
          "traceback": [
            "\u001b[0;31m---------------------------------------------------------------------------\u001b[0m",
            "\u001b[0;31mNameError\u001b[0m                                 Traceback (most recent call last)",
            "\u001b[0;32m<ipython-input-46-508146a1f617>\u001b[0m in \u001b[0;36m<module>\u001b[0;34m()\u001b[0m\n\u001b[1;32m      1\u001b[0m \u001b[0mplt\u001b[0m\u001b[0;34m.\u001b[0m\u001b[0mplot\u001b[0m\u001b[0;34m(\u001b[0m\u001b[0mhr\u001b[0m\u001b[0;34m,\u001b[0m \u001b[0mall_data\u001b[0m\u001b[0;34m.\u001b[0m\u001b[0mgroupby\u001b[0m\u001b[0;34m(\u001b[0m\u001b[0;34m[\u001b[0m\u001b[0;34m'Hour'\u001b[0m\u001b[0;34m]\u001b[0m\u001b[0;34m)\u001b[0m\u001b[0;34m.\u001b[0m\u001b[0mcount\u001b[0m\u001b[0;34m(\u001b[0m\u001b[0;34m)\u001b[0m\u001b[0;34m)\u001b[0m\u001b[0;34m\u001b[0m\u001b[0;34m\u001b[0m\u001b[0m\n\u001b[0;32m----> 2\u001b[0;31m \u001b[0mplt\u001b[0m\u001b[0;34m.\u001b[0m\u001b[0mxticks\u001b[0m\u001b[0;34m(\u001b[0m\u001b[0mhours\u001b[0m\u001b[0;34m)\u001b[0m\u001b[0;34m\u001b[0m\u001b[0;34m\u001b[0m\u001b[0m\n\u001b[0m\u001b[1;32m      3\u001b[0m \u001b[0mplt\u001b[0m\u001b[0;34m.\u001b[0m\u001b[0mxlabel\u001b[0m\u001b[0;34m(\u001b[0m\u001b[0;34m'Hour'\u001b[0m\u001b[0;34m)\u001b[0m\u001b[0;34m\u001b[0m\u001b[0;34m\u001b[0m\u001b[0m\n\u001b[1;32m      4\u001b[0m \u001b[0mplt\u001b[0m\u001b[0;34m.\u001b[0m\u001b[0mylabel\u001b[0m\u001b[0;34m(\u001b[0m\u001b[0;34m'Number of Orders Made'\u001b[0m\u001b[0;34m)\u001b[0m\u001b[0;34m\u001b[0m\u001b[0;34m\u001b[0m\u001b[0m\n\u001b[1;32m      5\u001b[0m \u001b[0mplt\u001b[0m\u001b[0;34m.\u001b[0m\u001b[0mgrid\u001b[0m\u001b[0;34m(\u001b[0m\u001b[0;34m)\u001b[0m\u001b[0;34m\u001b[0m\u001b[0;34m\u001b[0m\u001b[0m\n",
            "\u001b[0;31mNameError\u001b[0m: name 'hours' is not defined"
          ]
        },
        {
          "output_type": "display_data",
          "data": {
            "image/png": "[encoded data removed]",
            "text/plain": [
              "<Figure size 432x288 with 1 Axes>"
            ]
          },
          "metadata": {
            "tags": []
          }
        }
      ]
    },
    {
      "cell_type": "code",
      "metadata": {
        "id": "f5K00Skp3YvC",
        "colab_type": "code",
        "colab": {}
      },
      "source": [
        "#best time is between 1100-1200 hrs and 1900hrs"
      ],
      "execution_count": 0,
      "outputs": []
    },
    {
      "cell_type": "code",
      "metadata": {
        "id": "WV6yUlBE4ljR",
        "colab_type": "code",
        "colab": {}
      },
      "source": [
        "#What products are mostly sold together."
      ],
      "execution_count": 0,
      "outputs": []
    },
    {
      "cell_type": "code",
      "metadata": {
        "id": "kFOT3XvF8rHD",
        "colab_type": "code",
        "colab": {
          "base_uri": "https://localhost:8080/",
          "height": 111
        },
        "outputId": "b1d3b437-86b4-41df-dfcf-a42e0d470717"
      },
      "source": [
        "all_data.head(2)"
      ],
      "execution_count": 49,
      "outputs": [
        {
          "output_type": "execute_result",
          "data": {
            "text/html": [
              "<div>\n",
              "<style scoped>\n",
              "    .dataframe tbody tr th:only-of-type {\n",
              "        vertical-align: middle;\n",
              "    }\n",
              "\n",
              "    .dataframe tbody tr th {\n",
              "        vertical-align: top;\n",
              "    }\n",
              "\n",
              "    .dataframe thead th {\n",
              "        text-align: right;\n",
              "    }\n",
              "</style>\n",
              "<table border=\"1\" class=\"dataframe\">\n",
              "  <thead>\n",
              "    <tr style=\"text-align: right;\">\n",
              "      <th></th>\n",
              "      <th>Order ID</th>\n",
              "      <th>Product</th>\n",
              "      <th>Quantity Ordered</th>\n",
              "      <th>Price Each</th>\n",
              "      <th>Order Date</th>\n",
              "      <th>Purchase Address</th>\n",
              "      <th>Month</th>\n",
              "      <th>Sales</th>\n",
              "      <th>City</th>\n",
              "      <th>Hour</th>\n",
              "      <th>Minute</th>\n",
              "    </tr>\n",
              "  </thead>\n",
              "  <tbody>\n",
              "    <tr>\n",
              "      <th>0</th>\n",
              "      <td>236670</td>\n",
              "      <td>Wired Headphones</td>\n",
              "      <td>2</td>\n",
              "      <td>11.99</td>\n",
              "      <td>2019-08-31 22:21:00</td>\n",
              "      <td>359 Spruce St, Seattle, WA 98101</td>\n",
              "      <td>8</td>\n",
              "      <td>23.98</td>\n",
              "      <td>Seattle (WA)</td>\n",
              "      <td>22</td>\n",
              "      <td>21</td>\n",
              "    </tr>\n",
              "    <tr>\n",
              "      <th>1</th>\n",
              "      <td>236671</td>\n",
              "      <td>Bose SoundSport Headphones</td>\n",
              "      <td>1</td>\n",
              "      <td>99.99</td>\n",
              "      <td>2019-08-15 15:11:00</td>\n",
              "      <td>492 Ridge St, Dallas, TX 75001</td>\n",
              "      <td>8</td>\n",
              "      <td>99.99</td>\n",
              "      <td>Dallas (TX)</td>\n",
              "      <td>15</td>\n",
              "      <td>11</td>\n",
              "    </tr>\n",
              "  </tbody>\n",
              "</table>\n",
              "</div>"
            ],
            "text/plain": [
              "  Order ID                     Product  ...  Hour  Minute\n",
              "0   236670            Wired Headphones  ...    22      21\n",
              "1   236671  Bose SoundSport Headphones  ...    15      11\n",
              "\n",
              "[2 rows x 11 columns]"
            ]
          },
          "metadata": {
            "tags": []
          },
          "execution_count": 49
        }
      ]
    },
    {
      "cell_type": "code",
      "metadata": {
        "id": "Lw-inCqv-JLP",
        "colab_type": "code",
        "colab": {
          "base_uri": "https://localhost:8080/",
          "height": 306
        },
        "outputId": "95df590d-eea0-4b4d-d94e-08921ee2886c"
      },
      "source": [
        "df = all_data[all_data['Order ID'].duplicated(keep = False)]\n",
        "df['Grouped'] = df.groupby('Order ID')['Product'].transform(lambda x:','.join(x))\n",
        "df = df[['Order ID', 'Grouped']].drop_duplicates()\n",
        "df.head()"
      ],
      "execution_count": 50,
      "outputs": [
        {
          "output_type": "stream",
          "text": [
            "/usr/local/lib/python3.6/dist-packages/ipykernel_launcher.py:2: SettingWithCopyWarning: \n",
            "A value is trying to be set on a copy of a slice from a DataFrame.\n",
            "Try using .loc[row_indexer,col_indexer] = value instead\n",
            "\n",
            "See the caveats in the documentation: http://pandas.pydata.org/pandas-docs/stable/user_guide/indexing.html#returning-a-view-versus-a-copy\n",
            "  \n"
          ],
          "name": "stderr"
        },
        {
          "output_type": "execute_result",
          "data": {
            "text/html": [
              "<div>\n",
              "<style scoped>\n",
              "    .dataframe tbody tr th:only-of-type {\n",
              "        vertical-align: middle;\n",
              "    }\n",
              "\n",
              "    .dataframe tbody tr th {\n",
              "        vertical-align: top;\n",
              "    }\n",
              "\n",
              "    .dataframe thead th {\n",
              "        text-align: right;\n",
              "    }\n",
              "</style>\n",
              "<table border=\"1\" class=\"dataframe\">\n",
              "  <thead>\n",
              "    <tr style=\"text-align: right;\">\n",
              "      <th></th>\n",
              "      <th>Order ID</th>\n",
              "      <th>Grouped</th>\n",
              "    </tr>\n",
              "  </thead>\n",
              "  <tbody>\n",
              "    <tr>\n",
              "      <th>46</th>\n",
              "      <td>236716</td>\n",
              "      <td>AA Batteries (4-pack),USB-C Charging Cable</td>\n",
              "    </tr>\n",
              "    <tr>\n",
              "      <th>60</th>\n",
              "      <td>236729</td>\n",
              "      <td>iPhone,Apple Airpods Headphones</td>\n",
              "    </tr>\n",
              "    <tr>\n",
              "      <th>62</th>\n",
              "      <td>236730</td>\n",
              "      <td>Google Phone,Wired Headphones</td>\n",
              "    </tr>\n",
              "    <tr>\n",
              "      <th>132</th>\n",
              "      <td>236799</td>\n",
              "      <td>Google Phone,Wired Headphones</td>\n",
              "    </tr>\n",
              "    <tr>\n",
              "      <th>163</th>\n",
              "      <td>236829</td>\n",
              "      <td>Vareebadd Phone,USB-C Charging Cable</td>\n",
              "    </tr>\n",
              "  </tbody>\n",
              "</table>\n",
              "</div>"
            ],
            "text/plain": [
              "    Order ID                                     Grouped\n",
              "46    236716  AA Batteries (4-pack),USB-C Charging Cable\n",
              "60    236729             iPhone,Apple Airpods Headphones\n",
              "62    236730               Google Phone,Wired Headphones\n",
              "132   236799               Google Phone,Wired Headphones\n",
              "163   236829        Vareebadd Phone,USB-C Charging Cable"
            ]
          },
          "metadata": {
            "tags": []
          },
          "execution_count": 50
        }
      ]
    },
    {
      "cell_type": "code",
      "metadata": {
        "id": "0f5_2OaEDmlx",
        "colab_type": "code",
        "colab": {
          "base_uri": "https://localhost:8080/",
          "height": 102
        },
        "outputId": "64a6f3a3-becc-4c6b-bcba-2c74ee6efac9"
      },
      "source": [
        "from itertools import combinations\n",
        "from collections import Counter\n",
        "\n",
        "count = Counter()\n",
        "\n",
        "for row in df['Grouped']:\n",
        "  row_list = row.split(',')\n",
        "  count.update(Counter(combinations(row_list, 2)))\n",
        "\n",
        "for key, value in count.most_common(5):\n",
        "  print(key, value)"
      ],
      "execution_count": 51,
      "outputs": [
        {
          "output_type": "stream",
          "text": [
            "('iPhone', 'Lightning Charging Cable') 1005\n",
            "('Google Phone', 'USB-C Charging Cable') 987\n",
            "('iPhone', 'Wired Headphones') 447\n",
            "('Google Phone', 'Wired Headphones') 414\n",
            "('Vareebadd Phone', 'USB-C Charging Cable') 361\n"
          ],
          "name": "stdout"
        }
      ]
    },
    {
      "cell_type": "code",
      "metadata": {
        "id": "XWhYi6LAPCtq",
        "colab_type": "code",
        "colab": {}
      },
      "source": [
        "#product sold most"
      ],
      "execution_count": 0,
      "outputs": []
    },
    {
      "cell_type": "code",
      "metadata": {
        "id": "5oplETEHQnhf",
        "colab_type": "code",
        "colab": {
          "base_uri": "https://localhost:8080/",
          "height": 111
        },
        "outputId": "e17c0afc-a270-4049-de30-ffe723a00574"
      },
      "source": [
        "all_data.head(2\n",
        "              )"
      ],
      "execution_count": 53,
      "outputs": [
        {
          "output_type": "execute_result",
          "data": {
            "text/html": [
              "<div>\n",
              "<style scoped>\n",
              "    .dataframe tbody tr th:only-of-type {\n",
              "        vertical-align: middle;\n",
              "    }\n",
              "\n",
              "    .dataframe tbody tr th {\n",
              "        vertical-align: top;\n",
              "    }\n",
              "\n",
              "    .dataframe thead th {\n",
              "        text-align: right;\n",
              "    }\n",
              "</style>\n",
              "<table border=\"1\" class=\"dataframe\">\n",
              "  <thead>\n",
              "    <tr style=\"text-align: right;\">\n",
              "      <th></th>\n",
              "      <th>Order ID</th>\n",
              "      <th>Product</th>\n",
              "      <th>Quantity Ordered</th>\n",
              "      <th>Price Each</th>\n",
              "      <th>Order Date</th>\n",
              "      <th>Purchase Address</th>\n",
              "      <th>Month</th>\n",
              "      <th>Sales</th>\n",
              "      <th>City</th>\n",
              "      <th>Hour</th>\n",
              "      <th>Minute</th>\n",
              "    </tr>\n",
              "  </thead>\n",
              "  <tbody>\n",
              "    <tr>\n",
              "      <th>0</th>\n",
              "      <td>236670</td>\n",
              "      <td>Wired Headphones</td>\n",
              "      <td>2</td>\n",
              "      <td>11.99</td>\n",
              "      <td>2019-08-31 22:21:00</td>\n",
              "      <td>359 Spruce St, Seattle, WA 98101</td>\n",
              "      <td>8</td>\n",
              "      <td>23.98</td>\n",
              "      <td>Seattle (WA)</td>\n",
              "      <td>22</td>\n",
              "      <td>21</td>\n",
              "    </tr>\n",
              "    <tr>\n",
              "      <th>1</th>\n",
              "      <td>236671</td>\n",
              "      <td>Bose SoundSport Headphones</td>\n",
              "      <td>1</td>\n",
              "      <td>99.99</td>\n",
              "      <td>2019-08-15 15:11:00</td>\n",
              "      <td>492 Ridge St, Dallas, TX 75001</td>\n",
              "      <td>8</td>\n",
              "      <td>99.99</td>\n",
              "      <td>Dallas (TX)</td>\n",
              "      <td>15</td>\n",
              "      <td>11</td>\n",
              "    </tr>\n",
              "  </tbody>\n",
              "</table>\n",
              "</div>"
            ],
            "text/plain": [
              "  Order ID                     Product  ...  Hour  Minute\n",
              "0   236670            Wired Headphones  ...    22      21\n",
              "1   236671  Bose SoundSport Headphones  ...    15      11\n",
              "\n",
              "[2 rows x 11 columns]"
            ]
          },
          "metadata": {
            "tags": []
          },
          "execution_count": 53
        }
      ]
    },
    {
      "cell_type": "code",
      "metadata": {
        "id": "H0uuOIFeTXLO",
        "colab_type": "code",
        "colab": {
          "base_uri": "https://localhost:8080/",
          "height": 391
        },
        "outputId": "7ab63c8d-30c8-4ee1-89db-d620b057b769"
      },
      "source": [
        "product_group = all_data.groupby(['Product'])\n",
        "quantity_ordered = product_group.sum()['Quantity Ordered']\n",
        "products = list(set(all_data['Product']))\n",
        "plt.bar(products, quantity_ordered)\n",
        "plt.xticks(products, rotation = 'vertical', size = 8)\n",
        "plt.xlabel('Products')\n",
        "plt.ylabel('Quantity')\n",
        "plt.show()"
      ],
      "execution_count": 54,
      "outputs": [
        {
          "output_type": "display_data",
          "data": {
            "image/png": "[encoded data removed]",
            "text/plain": [
              "<Figure size 432x288 with 1 Axes>"
            ]
          },
          "metadata": {
            "tags": []
          }
        }
      ]
    },
    {
      "cell_type": "code",
      "metadata": {
        "id": "qFndiFWpT3kC",
        "colab_type": "code",
        "colab": {
          "base_uri": "https://localhost:8080/",
          "height": 391
        },
        "outputId": "a34021e9-222a-4cac-b8f0-fbdee14c510b"
      },
      "source": [
        "prices = all_data.groupby('Product').mean()['Price Each']\n",
        "\n",
        "fig, ax1 = plt.subplots()\n",
        "ax2 = ax1.twinx()\n",
        "ax1.bar(products, quantity_ordered, color = 'r')\n",
        "ax2.plot(products, prices, 'b-')\n",
        "\n",
        "ax1.set_xlabel('Product Name')\n",
        "ax1.set_ylabel('Quantity Ordered', color = 'r')\n",
        "ax2.set_ylabel('Price', color = 'b')\n",
        "ax1.set_xticklabels(products, rotation = 'vertical', size = 8)\n",
        "plt.show()"
      ],
      "execution_count": 55,
      "outputs": [
        {
          "output_type": "display_data",
          "data": {
            "image/png": "[encoded data removed]",
            "text/plain": [
              "<Figure size 432x288 with 2 Axes>"
            ]
          },
          "metadata": {
            "tags": []
          }
        }
      ]
    },
    {
      "cell_type": "code",
      "metadata": {
        "id": "Tb9VipOFae-Q",
        "colab_type": "code",
        "colab": {}
      },
      "source": [
        ""
      ],
      "execution_count": 0,
      "outputs": []
    }
  ]
}